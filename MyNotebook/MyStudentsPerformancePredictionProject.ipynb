{
 "cells": [
  {
   "cell_type": "code",
   "execution_count": 30,
   "id": "81399545",
   "metadata": {},
   "outputs": [],
   "source": [
    "# data analysis\n",
    "import pandas as pd\n",
    "import numpy as np\n",
    "\n",
    "# visualization\n",
    "%matplotlib inline\n",
    "import seaborn as sns\n",
    "import matplotlib.pyplot as plt\n",
    "\n",
    "# machine learning\n",
    "import sklearn\n",
    "from sklearn.metrics import mean_absolute_error\n",
    "\n",
    "\n"
   ]
  },
  {
   "cell_type": "markdown",
   "id": "0327eee8",
   "metadata": {},
   "source": [
    "### Reading the data from the dataset"
   ]
  },
  {
   "cell_type": "code",
   "execution_count": 5,
   "id": "b2370dba",
   "metadata": {},
   "outputs": [
    {
     "data": {
      "text/plain": [
       "<bound method NDFrame.describe of     school sex  age address famsize Pstatus  Medu  Fedu      Mjob      Fjob  \\\n",
       "0       GP   F   18       U     GT3       A     4     4   at_home   teacher   \n",
       "1       GP   F   17       U     GT3       T     1     1   at_home     other   \n",
       "2       GP   F   15       U     LE3       T     1     1   at_home     other   \n",
       "3       GP   F   15       U     GT3       T     4     2    health  services   \n",
       "4       GP   F   16       U     GT3       T     3     3     other     other   \n",
       "..     ...  ..  ...     ...     ...     ...   ...   ...       ...       ...   \n",
       "390     MS   M   20       U     LE3       A     2     2  services  services   \n",
       "391     MS   M   17       U     LE3       T     3     1  services  services   \n",
       "392     MS   M   21       R     GT3       T     1     1     other     other   \n",
       "393     MS   M   18       R     LE3       T     3     2  services     other   \n",
       "394     MS   M   19       U     LE3       T     1     1     other   at_home   \n",
       "\n",
       "     ... famrel freetime  goout  Dalc  Walc health absences  G1  G2  G3  \n",
       "0    ...      4        3      4     1     1      3        6   5   6   6  \n",
       "1    ...      5        3      3     1     1      3        4   5   5   6  \n",
       "2    ...      4        3      2     2     3      3       10   7   8  10  \n",
       "3    ...      3        2      2     1     1      5        2  15  14  15  \n",
       "4    ...      4        3      2     1     2      5        4   6  10  10  \n",
       "..   ...    ...      ...    ...   ...   ...    ...      ...  ..  ..  ..  \n",
       "390  ...      5        5      4     4     5      4       11   9   9   9  \n",
       "391  ...      2        4      5     3     4      2        3  14  16  16  \n",
       "392  ...      5        5      3     3     3      3        3  10   8   7  \n",
       "393  ...      4        4      1     3     4      5        0  11  12  10  \n",
       "394  ...      3        2      3     3     3      5        5   8   9   9  \n",
       "\n",
       "[395 rows x 33 columns]>"
      ]
     },
     "execution_count": 5,
     "metadata": {},
     "output_type": "execute_result"
    }
   ],
   "source": [
    "#reading the data from the dataset\n",
    "myData = pd.read_csv(\"student-mat.csv\", sep=\";\")\n",
    "myData.describe"
   ]
  },
  {
   "cell_type": "markdown",
   "id": "841088c8",
   "metadata": {},
   "source": [
    "### Heatmap and Correletion matrix"
   ]
  },
  {
   "cell_type": "code",
   "execution_count": 3,
   "id": "e9fa621d",
   "metadata": {
    "scrolled": false
   },
   "outputs": [
    {
     "data": {
      "text/html": [
       "<div>\n",
       "<style scoped>\n",
       "    .dataframe tbody tr th:only-of-type {\n",
       "        vertical-align: middle;\n",
       "    }\n",
       "\n",
       "    .dataframe tbody tr th {\n",
       "        vertical-align: top;\n",
       "    }\n",
       "\n",
       "    .dataframe thead th {\n",
       "        text-align: right;\n",
       "    }\n",
       "</style>\n",
       "<table border=\"1\" class=\"dataframe\">\n",
       "  <thead>\n",
       "    <tr style=\"text-align: right;\">\n",
       "      <th></th>\n",
       "      <th>age</th>\n",
       "      <th>Medu</th>\n",
       "      <th>Fedu</th>\n",
       "      <th>traveltime</th>\n",
       "      <th>studytime</th>\n",
       "      <th>failures</th>\n",
       "      <th>famrel</th>\n",
       "      <th>freetime</th>\n",
       "      <th>goout</th>\n",
       "      <th>Dalc</th>\n",
       "      <th>Walc</th>\n",
       "      <th>health</th>\n",
       "      <th>absences</th>\n",
       "      <th>G1</th>\n",
       "      <th>G2</th>\n",
       "      <th>G3</th>\n",
       "    </tr>\n",
       "  </thead>\n",
       "  <tbody>\n",
       "    <tr>\n",
       "      <th>age</th>\n",
       "      <td>1.000000</td>\n",
       "      <td>-0.163658</td>\n",
       "      <td>-0.163438</td>\n",
       "      <td>0.070641</td>\n",
       "      <td>-0.004140</td>\n",
       "      <td>0.243665</td>\n",
       "      <td>0.053940</td>\n",
       "      <td>0.016434</td>\n",
       "      <td>0.126964</td>\n",
       "      <td>0.131125</td>\n",
       "      <td>0.117276</td>\n",
       "      <td>-0.062187</td>\n",
       "      <td>0.175230</td>\n",
       "      <td>-0.064081</td>\n",
       "      <td>-0.143474</td>\n",
       "      <td>-0.161579</td>\n",
       "    </tr>\n",
       "    <tr>\n",
       "      <th>Medu</th>\n",
       "      <td>-0.163658</td>\n",
       "      <td>1.000000</td>\n",
       "      <td>0.623455</td>\n",
       "      <td>-0.171639</td>\n",
       "      <td>0.064944</td>\n",
       "      <td>-0.236680</td>\n",
       "      <td>-0.003914</td>\n",
       "      <td>0.030891</td>\n",
       "      <td>0.064094</td>\n",
       "      <td>0.019834</td>\n",
       "      <td>-0.047123</td>\n",
       "      <td>-0.046878</td>\n",
       "      <td>0.100285</td>\n",
       "      <td>0.205341</td>\n",
       "      <td>0.215527</td>\n",
       "      <td>0.217147</td>\n",
       "    </tr>\n",
       "    <tr>\n",
       "      <th>Fedu</th>\n",
       "      <td>-0.163438</td>\n",
       "      <td>0.623455</td>\n",
       "      <td>1.000000</td>\n",
       "      <td>-0.158194</td>\n",
       "      <td>-0.009175</td>\n",
       "      <td>-0.250408</td>\n",
       "      <td>-0.001370</td>\n",
       "      <td>-0.012846</td>\n",
       "      <td>0.043105</td>\n",
       "      <td>0.002386</td>\n",
       "      <td>-0.012631</td>\n",
       "      <td>0.014742</td>\n",
       "      <td>0.024473</td>\n",
       "      <td>0.190270</td>\n",
       "      <td>0.164893</td>\n",
       "      <td>0.152457</td>\n",
       "    </tr>\n",
       "    <tr>\n",
       "      <th>traveltime</th>\n",
       "      <td>0.070641</td>\n",
       "      <td>-0.171639</td>\n",
       "      <td>-0.158194</td>\n",
       "      <td>1.000000</td>\n",
       "      <td>-0.100909</td>\n",
       "      <td>0.092239</td>\n",
       "      <td>-0.016808</td>\n",
       "      <td>-0.017025</td>\n",
       "      <td>0.028540</td>\n",
       "      <td>0.138325</td>\n",
       "      <td>0.134116</td>\n",
       "      <td>0.007501</td>\n",
       "      <td>-0.012944</td>\n",
       "      <td>-0.093040</td>\n",
       "      <td>-0.153198</td>\n",
       "      <td>-0.117142</td>\n",
       "    </tr>\n",
       "    <tr>\n",
       "      <th>studytime</th>\n",
       "      <td>-0.004140</td>\n",
       "      <td>0.064944</td>\n",
       "      <td>-0.009175</td>\n",
       "      <td>-0.100909</td>\n",
       "      <td>1.000000</td>\n",
       "      <td>-0.173563</td>\n",
       "      <td>0.039731</td>\n",
       "      <td>-0.143198</td>\n",
       "      <td>-0.063904</td>\n",
       "      <td>-0.196019</td>\n",
       "      <td>-0.253785</td>\n",
       "      <td>-0.075616</td>\n",
       "      <td>-0.062700</td>\n",
       "      <td>0.160612</td>\n",
       "      <td>0.135880</td>\n",
       "      <td>0.097820</td>\n",
       "    </tr>\n",
       "    <tr>\n",
       "      <th>failures</th>\n",
       "      <td>0.243665</td>\n",
       "      <td>-0.236680</td>\n",
       "      <td>-0.250408</td>\n",
       "      <td>0.092239</td>\n",
       "      <td>-0.173563</td>\n",
       "      <td>1.000000</td>\n",
       "      <td>-0.044337</td>\n",
       "      <td>0.091987</td>\n",
       "      <td>0.124561</td>\n",
       "      <td>0.136047</td>\n",
       "      <td>0.141962</td>\n",
       "      <td>0.065827</td>\n",
       "      <td>0.063726</td>\n",
       "      <td>-0.354718</td>\n",
       "      <td>-0.355896</td>\n",
       "      <td>-0.360415</td>\n",
       "    </tr>\n",
       "    <tr>\n",
       "      <th>famrel</th>\n",
       "      <td>0.053940</td>\n",
       "      <td>-0.003914</td>\n",
       "      <td>-0.001370</td>\n",
       "      <td>-0.016808</td>\n",
       "      <td>0.039731</td>\n",
       "      <td>-0.044337</td>\n",
       "      <td>1.000000</td>\n",
       "      <td>0.150701</td>\n",
       "      <td>0.064568</td>\n",
       "      <td>-0.077594</td>\n",
       "      <td>-0.113397</td>\n",
       "      <td>0.094056</td>\n",
       "      <td>-0.044354</td>\n",
       "      <td>0.022168</td>\n",
       "      <td>-0.018281</td>\n",
       "      <td>0.051363</td>\n",
       "    </tr>\n",
       "    <tr>\n",
       "      <th>freetime</th>\n",
       "      <td>0.016434</td>\n",
       "      <td>0.030891</td>\n",
       "      <td>-0.012846</td>\n",
       "      <td>-0.017025</td>\n",
       "      <td>-0.143198</td>\n",
       "      <td>0.091987</td>\n",
       "      <td>0.150701</td>\n",
       "      <td>1.000000</td>\n",
       "      <td>0.285019</td>\n",
       "      <td>0.209001</td>\n",
       "      <td>0.147822</td>\n",
       "      <td>0.075733</td>\n",
       "      <td>-0.058078</td>\n",
       "      <td>0.012613</td>\n",
       "      <td>-0.013777</td>\n",
       "      <td>0.011307</td>\n",
       "    </tr>\n",
       "    <tr>\n",
       "      <th>goout</th>\n",
       "      <td>0.126964</td>\n",
       "      <td>0.064094</td>\n",
       "      <td>0.043105</td>\n",
       "      <td>0.028540</td>\n",
       "      <td>-0.063904</td>\n",
       "      <td>0.124561</td>\n",
       "      <td>0.064568</td>\n",
       "      <td>0.285019</td>\n",
       "      <td>1.000000</td>\n",
       "      <td>0.266994</td>\n",
       "      <td>0.420386</td>\n",
       "      <td>-0.009577</td>\n",
       "      <td>0.044302</td>\n",
       "      <td>-0.149104</td>\n",
       "      <td>-0.162250</td>\n",
       "      <td>-0.132791</td>\n",
       "    </tr>\n",
       "    <tr>\n",
       "      <th>Dalc</th>\n",
       "      <td>0.131125</td>\n",
       "      <td>0.019834</td>\n",
       "      <td>0.002386</td>\n",
       "      <td>0.138325</td>\n",
       "      <td>-0.196019</td>\n",
       "      <td>0.136047</td>\n",
       "      <td>-0.077594</td>\n",
       "      <td>0.209001</td>\n",
       "      <td>0.266994</td>\n",
       "      <td>1.000000</td>\n",
       "      <td>0.647544</td>\n",
       "      <td>0.077180</td>\n",
       "      <td>0.111908</td>\n",
       "      <td>-0.094159</td>\n",
       "      <td>-0.064120</td>\n",
       "      <td>-0.054660</td>\n",
       "    </tr>\n",
       "    <tr>\n",
       "      <th>Walc</th>\n",
       "      <td>0.117276</td>\n",
       "      <td>-0.047123</td>\n",
       "      <td>-0.012631</td>\n",
       "      <td>0.134116</td>\n",
       "      <td>-0.253785</td>\n",
       "      <td>0.141962</td>\n",
       "      <td>-0.113397</td>\n",
       "      <td>0.147822</td>\n",
       "      <td>0.420386</td>\n",
       "      <td>0.647544</td>\n",
       "      <td>1.000000</td>\n",
       "      <td>0.092476</td>\n",
       "      <td>0.136291</td>\n",
       "      <td>-0.126179</td>\n",
       "      <td>-0.084927</td>\n",
       "      <td>-0.051939</td>\n",
       "    </tr>\n",
       "    <tr>\n",
       "      <th>health</th>\n",
       "      <td>-0.062187</td>\n",
       "      <td>-0.046878</td>\n",
       "      <td>0.014742</td>\n",
       "      <td>0.007501</td>\n",
       "      <td>-0.075616</td>\n",
       "      <td>0.065827</td>\n",
       "      <td>0.094056</td>\n",
       "      <td>0.075733</td>\n",
       "      <td>-0.009577</td>\n",
       "      <td>0.077180</td>\n",
       "      <td>0.092476</td>\n",
       "      <td>1.000000</td>\n",
       "      <td>-0.029937</td>\n",
       "      <td>-0.073172</td>\n",
       "      <td>-0.097720</td>\n",
       "      <td>-0.061335</td>\n",
       "    </tr>\n",
       "    <tr>\n",
       "      <th>absences</th>\n",
       "      <td>0.175230</td>\n",
       "      <td>0.100285</td>\n",
       "      <td>0.024473</td>\n",
       "      <td>-0.012944</td>\n",
       "      <td>-0.062700</td>\n",
       "      <td>0.063726</td>\n",
       "      <td>-0.044354</td>\n",
       "      <td>-0.058078</td>\n",
       "      <td>0.044302</td>\n",
       "      <td>0.111908</td>\n",
       "      <td>0.136291</td>\n",
       "      <td>-0.029937</td>\n",
       "      <td>1.000000</td>\n",
       "      <td>-0.031003</td>\n",
       "      <td>-0.031777</td>\n",
       "      <td>0.034247</td>\n",
       "    </tr>\n",
       "    <tr>\n",
       "      <th>G1</th>\n",
       "      <td>-0.064081</td>\n",
       "      <td>0.205341</td>\n",
       "      <td>0.190270</td>\n",
       "      <td>-0.093040</td>\n",
       "      <td>0.160612</td>\n",
       "      <td>-0.354718</td>\n",
       "      <td>0.022168</td>\n",
       "      <td>0.012613</td>\n",
       "      <td>-0.149104</td>\n",
       "      <td>-0.094159</td>\n",
       "      <td>-0.126179</td>\n",
       "      <td>-0.073172</td>\n",
       "      <td>-0.031003</td>\n",
       "      <td>1.000000</td>\n",
       "      <td>0.852118</td>\n",
       "      <td>0.801468</td>\n",
       "    </tr>\n",
       "    <tr>\n",
       "      <th>G2</th>\n",
       "      <td>-0.143474</td>\n",
       "      <td>0.215527</td>\n",
       "      <td>0.164893</td>\n",
       "      <td>-0.153198</td>\n",
       "      <td>0.135880</td>\n",
       "      <td>-0.355896</td>\n",
       "      <td>-0.018281</td>\n",
       "      <td>-0.013777</td>\n",
       "      <td>-0.162250</td>\n",
       "      <td>-0.064120</td>\n",
       "      <td>-0.084927</td>\n",
       "      <td>-0.097720</td>\n",
       "      <td>-0.031777</td>\n",
       "      <td>0.852118</td>\n",
       "      <td>1.000000</td>\n",
       "      <td>0.904868</td>\n",
       "    </tr>\n",
       "    <tr>\n",
       "      <th>G3</th>\n",
       "      <td>-0.161579</td>\n",
       "      <td>0.217147</td>\n",
       "      <td>0.152457</td>\n",
       "      <td>-0.117142</td>\n",
       "      <td>0.097820</td>\n",
       "      <td>-0.360415</td>\n",
       "      <td>0.051363</td>\n",
       "      <td>0.011307</td>\n",
       "      <td>-0.132791</td>\n",
       "      <td>-0.054660</td>\n",
       "      <td>-0.051939</td>\n",
       "      <td>-0.061335</td>\n",
       "      <td>0.034247</td>\n",
       "      <td>0.801468</td>\n",
       "      <td>0.904868</td>\n",
       "      <td>1.000000</td>\n",
       "    </tr>\n",
       "  </tbody>\n",
       "</table>\n",
       "</div>"
      ],
      "text/plain": [
       "                 age      Medu      Fedu  traveltime  studytime  failures  \\\n",
       "age         1.000000 -0.163658 -0.163438    0.070641  -0.004140  0.243665   \n",
       "Medu       -0.163658  1.000000  0.623455   -0.171639   0.064944 -0.236680   \n",
       "Fedu       -0.163438  0.623455  1.000000   -0.158194  -0.009175 -0.250408   \n",
       "traveltime  0.070641 -0.171639 -0.158194    1.000000  -0.100909  0.092239   \n",
       "studytime  -0.004140  0.064944 -0.009175   -0.100909   1.000000 -0.173563   \n",
       "failures    0.243665 -0.236680 -0.250408    0.092239  -0.173563  1.000000   \n",
       "famrel      0.053940 -0.003914 -0.001370   -0.016808   0.039731 -0.044337   \n",
       "freetime    0.016434  0.030891 -0.012846   -0.017025  -0.143198  0.091987   \n",
       "goout       0.126964  0.064094  0.043105    0.028540  -0.063904  0.124561   \n",
       "Dalc        0.131125  0.019834  0.002386    0.138325  -0.196019  0.136047   \n",
       "Walc        0.117276 -0.047123 -0.012631    0.134116  -0.253785  0.141962   \n",
       "health     -0.062187 -0.046878  0.014742    0.007501  -0.075616  0.065827   \n",
       "absences    0.175230  0.100285  0.024473   -0.012944  -0.062700  0.063726   \n",
       "G1         -0.064081  0.205341  0.190270   -0.093040   0.160612 -0.354718   \n",
       "G2         -0.143474  0.215527  0.164893   -0.153198   0.135880 -0.355896   \n",
       "G3         -0.161579  0.217147  0.152457   -0.117142   0.097820 -0.360415   \n",
       "\n",
       "              famrel  freetime     goout      Dalc      Walc    health  \\\n",
       "age         0.053940  0.016434  0.126964  0.131125  0.117276 -0.062187   \n",
       "Medu       -0.003914  0.030891  0.064094  0.019834 -0.047123 -0.046878   \n",
       "Fedu       -0.001370 -0.012846  0.043105  0.002386 -0.012631  0.014742   \n",
       "traveltime -0.016808 -0.017025  0.028540  0.138325  0.134116  0.007501   \n",
       "studytime   0.039731 -0.143198 -0.063904 -0.196019 -0.253785 -0.075616   \n",
       "failures   -0.044337  0.091987  0.124561  0.136047  0.141962  0.065827   \n",
       "famrel      1.000000  0.150701  0.064568 -0.077594 -0.113397  0.094056   \n",
       "freetime    0.150701  1.000000  0.285019  0.209001  0.147822  0.075733   \n",
       "goout       0.064568  0.285019  1.000000  0.266994  0.420386 -0.009577   \n",
       "Dalc       -0.077594  0.209001  0.266994  1.000000  0.647544  0.077180   \n",
       "Walc       -0.113397  0.147822  0.420386  0.647544  1.000000  0.092476   \n",
       "health      0.094056  0.075733 -0.009577  0.077180  0.092476  1.000000   \n",
       "absences   -0.044354 -0.058078  0.044302  0.111908  0.136291 -0.029937   \n",
       "G1          0.022168  0.012613 -0.149104 -0.094159 -0.126179 -0.073172   \n",
       "G2         -0.018281 -0.013777 -0.162250 -0.064120 -0.084927 -0.097720   \n",
       "G3          0.051363  0.011307 -0.132791 -0.054660 -0.051939 -0.061335   \n",
       "\n",
       "            absences        G1        G2        G3  \n",
       "age         0.175230 -0.064081 -0.143474 -0.161579  \n",
       "Medu        0.100285  0.205341  0.215527  0.217147  \n",
       "Fedu        0.024473  0.190270  0.164893  0.152457  \n",
       "traveltime -0.012944 -0.093040 -0.153198 -0.117142  \n",
       "studytime  -0.062700  0.160612  0.135880  0.097820  \n",
       "failures    0.063726 -0.354718 -0.355896 -0.360415  \n",
       "famrel     -0.044354  0.022168 -0.018281  0.051363  \n",
       "freetime   -0.058078  0.012613 -0.013777  0.011307  \n",
       "goout       0.044302 -0.149104 -0.162250 -0.132791  \n",
       "Dalc        0.111908 -0.094159 -0.064120 -0.054660  \n",
       "Walc        0.136291 -0.126179 -0.084927 -0.051939  \n",
       "health     -0.029937 -0.073172 -0.097720 -0.061335  \n",
       "absences    1.000000 -0.031003 -0.031777  0.034247  \n",
       "G1         -0.031003  1.000000  0.852118  0.801468  \n",
       "G2         -0.031777  0.852118  1.000000  0.904868  \n",
       "G3          0.034247  0.801468  0.904868  1.000000  "
      ]
     },
     "execution_count": 3,
     "metadata": {},
     "output_type": "execute_result"
    }
   ],
   "source": [
    "#creating the Correlation matrix\n",
    "correlation = myData.corr()\n",
    "myData.corr()"
   ]
  },
  {
   "cell_type": "code",
   "execution_count": 4,
   "id": "7e873041",
   "metadata": {},
   "outputs": [
    {
     "data": {
      "text/plain": [
       "<AxesSubplot:>"
      ]
     },
     "execution_count": 4,
     "metadata": {},
     "output_type": "execute_result"
    },
    {
     "data": {
      "image/png": "[encoded data removed]",
      "text/plain": [
       "<Figure size 1000x600 with 2 Axes>"
      ]
     },
     "metadata": {},
     "output_type": "display_data"
    }
   ],
   "source": [
    "#Displaying the heatmap\n",
    "plt.figure(figsize=(10, 6), facecolor='w', edgecolor='k')\n",
    "sns.set(font_scale=0.5)\n",
    "sns.heatmap(correlation, cmap=\"coolwarm\", annot=True)"
   ]
  },
  {
   "cell_type": "markdown",
   "id": "692be2e8",
   "metadata": {},
   "source": [
    "### Box plots"
   ]
  },
  {
   "cell_type": "code",
   "execution_count": 5,
   "id": "433f4972",
   "metadata": {},
   "outputs": [
    {
     "data": {
      "text/html": [
       "<div>\n",
       "<style scoped>\n",
       "    .dataframe tbody tr th:only-of-type {\n",
       "        vertical-align: middle;\n",
       "    }\n",
       "\n",
       "    .dataframe tbody tr th {\n",
       "        vertical-align: top;\n",
       "    }\n",
       "\n",
       "    .dataframe thead th {\n",
       "        text-align: right;\n",
       "    }\n",
       "</style>\n",
       "<table border=\"1\" class=\"dataframe\">\n",
       "  <thead>\n",
       "    <tr style=\"text-align: right;\">\n",
       "      <th>studytime</th>\n",
       "      <th>1</th>\n",
       "      <th>2</th>\n",
       "      <th>3</th>\n",
       "      <th>4</th>\n",
       "    </tr>\n",
       "  </thead>\n",
       "  <tbody>\n",
       "    <tr>\n",
       "      <th>0</th>\n",
       "      <td>NaN</td>\n",
       "      <td>6.0</td>\n",
       "      <td>NaN</td>\n",
       "      <td>NaN</td>\n",
       "    </tr>\n",
       "    <tr>\n",
       "      <th>1</th>\n",
       "      <td>NaN</td>\n",
       "      <td>6.0</td>\n",
       "      <td>NaN</td>\n",
       "      <td>NaN</td>\n",
       "    </tr>\n",
       "    <tr>\n",
       "      <th>2</th>\n",
       "      <td>NaN</td>\n",
       "      <td>10.0</td>\n",
       "      <td>NaN</td>\n",
       "      <td>NaN</td>\n",
       "    </tr>\n",
       "    <tr>\n",
       "      <th>3</th>\n",
       "      <td>NaN</td>\n",
       "      <td>NaN</td>\n",
       "      <td>15.0</td>\n",
       "      <td>NaN</td>\n",
       "    </tr>\n",
       "    <tr>\n",
       "      <th>4</th>\n",
       "      <td>NaN</td>\n",
       "      <td>10.0</td>\n",
       "      <td>NaN</td>\n",
       "      <td>NaN</td>\n",
       "    </tr>\n",
       "    <tr>\n",
       "      <th>...</th>\n",
       "      <td>...</td>\n",
       "      <td>...</td>\n",
       "      <td>...</td>\n",
       "      <td>...</td>\n",
       "    </tr>\n",
       "    <tr>\n",
       "      <th>390</th>\n",
       "      <td>NaN</td>\n",
       "      <td>9.0</td>\n",
       "      <td>NaN</td>\n",
       "      <td>NaN</td>\n",
       "    </tr>\n",
       "    <tr>\n",
       "      <th>391</th>\n",
       "      <td>16.0</td>\n",
       "      <td>NaN</td>\n",
       "      <td>NaN</td>\n",
       "      <td>NaN</td>\n",
       "    </tr>\n",
       "    <tr>\n",
       "      <th>392</th>\n",
       "      <td>7.0</td>\n",
       "      <td>NaN</td>\n",
       "      <td>NaN</td>\n",
       "      <td>NaN</td>\n",
       "    </tr>\n",
       "    <tr>\n",
       "      <th>393</th>\n",
       "      <td>10.0</td>\n",
       "      <td>NaN</td>\n",
       "      <td>NaN</td>\n",
       "      <td>NaN</td>\n",
       "    </tr>\n",
       "    <tr>\n",
       "      <th>394</th>\n",
       "      <td>9.0</td>\n",
       "      <td>NaN</td>\n",
       "      <td>NaN</td>\n",
       "      <td>NaN</td>\n",
       "    </tr>\n",
       "  </tbody>\n",
       "</table>\n",
       "<p>395 rows × 4 columns</p>\n",
       "</div>"
      ],
      "text/plain": [
       "studytime     1     2     3   4\n",
       "0           NaN   6.0   NaN NaN\n",
       "1           NaN   6.0   NaN NaN\n",
       "2           NaN  10.0   NaN NaN\n",
       "3           NaN   NaN  15.0 NaN\n",
       "4           NaN  10.0   NaN NaN\n",
       "..          ...   ...   ...  ..\n",
       "390         NaN   9.0   NaN NaN\n",
       "391        16.0   NaN   NaN NaN\n",
       "392         7.0   NaN   NaN NaN\n",
       "393        10.0   NaN   NaN NaN\n",
       "394         9.0   NaN   NaN NaN\n",
       "\n",
       "[395 rows x 4 columns]"
      ]
     },
     "execution_count": 5,
     "metadata": {},
     "output_type": "execute_result"
    }
   ],
   "source": [
    "#creating a pivot table\n",
    "myData.pivot(columns = 'studytime', values = 'G3')"
   ]
  },
  {
   "cell_type": "code",
   "execution_count": 6,
   "id": "8068adbd",
   "metadata": {},
   "outputs": [
    {
     "data": {
      "text/plain": [
       "<AxesSubplot:>"
      ]
     },
     "execution_count": 6,
     "metadata": {},
     "output_type": "execute_result"
    },
    {
     "data": {
      "image/png": "[encoded data removed]",
      "text/plain": [
       "<Figure size 1000x600 with 1 Axes>"
      ]
     },
     "metadata": {},
     "output_type": "display_data"
    }
   ],
   "source": [
    "#Displaying a boxplot with the categorical feature, studytime and the continuous feature, G3\n",
    "myData.pivot(columns = 'studytime', values = 'G3').plot(kind = 'box', figsize=(10,6))"
   ]
  },
  {
   "cell_type": "markdown",
   "id": "2d338d1a",
   "metadata": {},
   "source": [
    "### Feature Independence plots"
   ]
  },
  {
   "cell_type": "code",
   "execution_count": 7,
   "id": "38cdef13",
   "metadata": {},
   "outputs": [
    {
     "data": {
      "text/plain": [
       "array([<AxesSubplot:title={'center':'absences'}>], dtype=object)"
      ]
     },
     "execution_count": 7,
     "metadata": {},
     "output_type": "execute_result"
    },
    {
     "data": {
      "image/png": "[encoded data removed]",
      "text/plain": [
       "<Figure size 640x480 with 3 Axes>"
      ]
     },
     "metadata": {},
     "output_type": "display_data"
    }
   ],
   "source": [
    "#Displaying plots for the features that are going to be used \n",
    "fig, axes = plt.subplots(1,3)\n",
    "myData.hist('G1', ax=axes[0])\n",
    "myData.hist('G2', ax=axes[1])\n",
    "myData.hist('absences', ax=axes[2])"
   ]
  },
  {
   "cell_type": "markdown",
   "id": "01c430d7",
   "metadata": {},
   "source": [
    "### Outlier plots"
   ]
  },
  {
   "cell_type": "code",
   "execution_count": 8,
   "id": "8a0ca30e",
   "metadata": {},
   "outputs": [
    {
     "name": "stderr",
     "output_type": "stream",
     "text": [
      "*c* argument looks like a single numeric RGB or RGBA sequence, which should be avoided as value-mapping will have precedence in case its length matches with *x* & *y*.  Please use the *color* keyword-argument or provide a 2D array with a single row if you intend to specify the same RGB or RGBA value for all points.\n"
     ]
    },
    {
     "data": {
      "text/plain": [
       "<AxesSubplot:xlabel='absences', ylabel='G3'>"
      ]
     },
     "execution_count": 8,
     "metadata": {},
     "output_type": "execute_result"
    },
    {
     "data": {
      "image/png": "[encoded data removed]",
      "text/plain": [
       "<Figure size 640x480 with 1 Axes>"
      ]
     },
     "metadata": {},
     "output_type": "display_data"
    }
   ],
   "source": [
    "#Displaying a scatter plot \n",
    "myData.plot(kind='scatter', x='absences', y='G3')"
   ]
  },
  {
   "cell_type": "markdown",
   "id": "b414e805",
   "metadata": {},
   "source": [
    "### Illustration of Patterns of Interest"
   ]
  },
  {
   "cell_type": "code",
   "execution_count": 9,
   "id": "7bf616e0",
   "metadata": {},
   "outputs": [
    {
     "data": {
      "text/plain": [
       "<AxesSubplot:ylabel='Frequency'>"
      ]
     },
     "execution_count": 9,
     "metadata": {},
     "output_type": "execute_result"
    },
    {
     "data": {
      "image/png": "[encoded data removed]",
      "text/plain": [
       "<Figure size 1000x600 with 1 Axes>"
      ]
     },
     "metadata": {},
     "output_type": "display_data"
    }
   ],
   "source": [
    "#Displaying the Histogram to analyze the frequency of values under the feature, G3\n",
    "myData['G3'].plot(kind='hist', figsize = (10, 6))"
   ]
  },
  {
   "cell_type": "code",
   "execution_count": 10,
   "id": "5b5b451c",
   "metadata": {},
   "outputs": [
    {
     "data": {
      "text/html": [
       "<div>\n",
       "<style scoped>\n",
       "    .dataframe tbody tr th:only-of-type {\n",
       "        vertical-align: middle;\n",
       "    }\n",
       "\n",
       "    .dataframe tbody tr th {\n",
       "        vertical-align: top;\n",
       "    }\n",
       "\n",
       "    .dataframe thead th {\n",
       "        text-align: right;\n",
       "    }\n",
       "</style>\n",
       "<table border=\"1\" class=\"dataframe\">\n",
       "  <thead>\n",
       "    <tr style=\"text-align: right;\">\n",
       "      <th></th>\n",
       "      <th>school</th>\n",
       "      <th>sex</th>\n",
       "      <th>age</th>\n",
       "      <th>address</th>\n",
       "      <th>famsize</th>\n",
       "      <th>Pstatus</th>\n",
       "      <th>Medu</th>\n",
       "      <th>Fedu</th>\n",
       "      <th>Mjob</th>\n",
       "      <th>Fjob</th>\n",
       "      <th>...</th>\n",
       "      <th>famrel</th>\n",
       "      <th>freetime</th>\n",
       "      <th>goout</th>\n",
       "      <th>Dalc</th>\n",
       "      <th>Walc</th>\n",
       "      <th>health</th>\n",
       "      <th>absences</th>\n",
       "      <th>G1</th>\n",
       "      <th>G2</th>\n",
       "      <th>G3</th>\n",
       "    </tr>\n",
       "  </thead>\n",
       "  <tbody>\n",
       "  </tbody>\n",
       "</table>\n",
       "<p>0 rows × 33 columns</p>\n",
       "</div>"
      ],
      "text/plain": [
       "Empty DataFrame\n",
       "Columns: [school, sex, age, address, famsize, Pstatus, Medu, Fedu, Mjob, Fjob, reason, guardian, traveltime, studytime, failures, schoolsup, famsup, paid, activities, nursery, higher, internet, romantic, famrel, freetime, goout, Dalc, Walc, health, absences, G1, G2, G3]\n",
       "Index: []\n",
       "\n",
       "[0 rows x 33 columns]"
      ]
     },
     "execution_count": 10,
     "metadata": {},
     "output_type": "execute_result"
    }
   ],
   "source": [
    "#checking for any instances with null values\n",
    "anyNull = pd.isnull(myData[\"G3\"])\n",
    "myData[anyNull]"
   ]
  },
  {
   "cell_type": "code",
   "execution_count": 11,
   "id": "98f1b0d2",
   "metadata": {},
   "outputs": [
    {
     "name": "stderr",
     "output_type": "stream",
     "text": [
      "*c* argument looks like a single numeric RGB or RGBA sequence, which should be avoided as value-mapping will have precedence in case its length matches with *x* & *y*.  Please use the *color* keyword-argument or provide a 2D array with a single row if you intend to specify the same RGB or RGBA value for all points.\n"
     ]
    },
    {
     "data": {
      "text/plain": [
       "<AxesSubplot:xlabel='G1', ylabel='G3'>"
      ]
     },
     "execution_count": 11,
     "metadata": {},
     "output_type": "execute_result"
    },
    {
     "data": {
      "image/png": "[encoded data removed]",
      "text/plain": [
       "<Figure size 640x480 with 1 Axes>"
      ]
     },
     "metadata": {},
     "output_type": "display_data"
    }
   ],
   "source": [
    "myData.plot(kind=\"scatter\", x = \"G1\", y = \"G3\")"
   ]
  },
  {
   "cell_type": "code",
   "execution_count": 12,
   "id": "63d449d8",
   "metadata": {},
   "outputs": [
    {
     "name": "stderr",
     "output_type": "stream",
     "text": [
      "*c* argument looks like a single numeric RGB or RGBA sequence, which should be avoided as value-mapping will have precedence in case its length matches with *x* & *y*.  Please use the *color* keyword-argument or provide a 2D array with a single row if you intend to specify the same RGB or RGBA value for all points.\n"
     ]
    },
    {
     "data": {
      "text/plain": [
       "<AxesSubplot:xlabel='G2', ylabel='G3'>"
      ]
     },
     "execution_count": 12,
     "metadata": {},
     "output_type": "execute_result"
    },
    {
     "data": {
      "image/png": "[encoded data removed]",
      "text/plain": [
       "<Figure size 640x480 with 1 Axes>"
      ]
     },
     "metadata": {},
     "output_type": "display_data"
    }
   ],
   "source": [
    "myData.plot(kind=\"scatter\", x = \"G2\", y = \"G3\")"
   ]
  },
  {
   "cell_type": "code",
   "execution_count": 13,
   "id": "e7fe0993",
   "metadata": {},
   "outputs": [
    {
     "data": {
      "text/plain": [
       "Index(['school', 'sex', 'age', 'address', 'famsize', 'Pstatus', 'Medu', 'Fedu',\n",
       "       'Mjob', 'Fjob', 'reason', 'guardian', 'traveltime', 'studytime',\n",
       "       'failures', 'schoolsup', 'famsup', 'paid', 'activities', 'nursery',\n",
       "       'higher', 'internet', 'romantic', 'famrel', 'freetime', 'goout', 'Dalc',\n",
       "       'Walc', 'health', 'absences', 'G1', 'G2', 'G3'],\n",
       "      dtype='object')"
      ]
     },
     "execution_count": 13,
     "metadata": {},
     "output_type": "execute_result"
    }
   ],
   "source": [
    "#Displaying the columns in the dataset\n",
    "myData.columns"
   ]
  },
  {
   "cell_type": "code",
   "execution_count": 14,
   "id": "3641666a",
   "metadata": {},
   "outputs": [
    {
     "data": {
      "text/html": [
       "<div>\n",
       "<style scoped>\n",
       "    .dataframe tbody tr th:only-of-type {\n",
       "        vertical-align: middle;\n",
       "    }\n",
       "\n",
       "    .dataframe tbody tr th {\n",
       "        vertical-align: top;\n",
       "    }\n",
       "\n",
       "    .dataframe thead th {\n",
       "        text-align: right;\n",
       "    }\n",
       "</style>\n",
       "<table border=\"1\" class=\"dataframe\">\n",
       "  <thead>\n",
       "    <tr style=\"text-align: right;\">\n",
       "      <th></th>\n",
       "      <th>school</th>\n",
       "      <th>sex</th>\n",
       "      <th>age</th>\n",
       "      <th>address</th>\n",
       "      <th>famsize</th>\n",
       "      <th>Pstatus</th>\n",
       "      <th>Medu</th>\n",
       "      <th>Fedu</th>\n",
       "      <th>Mjob</th>\n",
       "      <th>Fjob</th>\n",
       "      <th>...</th>\n",
       "      <th>famrel</th>\n",
       "      <th>freetime</th>\n",
       "      <th>goout</th>\n",
       "      <th>Dalc</th>\n",
       "      <th>Walc</th>\n",
       "      <th>health</th>\n",
       "      <th>absences</th>\n",
       "      <th>G1</th>\n",
       "      <th>G2</th>\n",
       "      <th>G3</th>\n",
       "    </tr>\n",
       "  </thead>\n",
       "  <tbody>\n",
       "  </tbody>\n",
       "</table>\n",
       "<p>0 rows × 33 columns</p>\n",
       "</div>"
      ],
      "text/plain": [
       "Empty DataFrame\n",
       "Columns: [school, sex, age, address, famsize, Pstatus, Medu, Fedu, Mjob, Fjob, reason, guardian, traveltime, studytime, failures, schoolsup, famsup, paid, activities, nursery, higher, internet, romantic, famrel, freetime, goout, Dalc, Walc, health, absences, G1, G2, G3]\n",
       "Index: []\n",
       "\n",
       "[0 rows x 33 columns]"
      ]
     },
     "execution_count": 14,
     "metadata": {},
     "output_type": "execute_result"
    }
   ],
   "source": [
    "#checking for any instances with null values\n",
    "anyNull = pd.isnull(myData[\"G3\"])\n",
    "myData[anyNull]"
   ]
  },
  {
   "cell_type": "code",
   "execution_count": 6,
   "id": "be3fa0e9",
   "metadata": {},
   "outputs": [],
   "source": [
    "#selecting important attributes from the dataset according to correlation values\n",
    "features = ['studytime', 'Fedu', 'Medu', 'absences', 'failures',  'G1', 'G2']\n",
    "X = myData.loc[:, features]\n",
    "#the target attribute has to be the final examination mark\n",
    "Y = myData.loc[:, 'G3']"
   ]
  },
  {
   "cell_type": "markdown",
   "id": "7974a16b",
   "metadata": {},
   "source": [
    "### Splitting the Data"
   ]
  },
  {
   "cell_type": "code",
   "execution_count": 7,
   "id": "d256b284",
   "metadata": {},
   "outputs": [
    {
     "data": {
      "text/plain": [
       "((355, 7), (40, 7))"
      ]
     },
     "execution_count": 7,
     "metadata": {},
     "output_type": "execute_result"
    }
   ],
   "source": [
    "#splitting the data \n",
    "from sklearn.model_selection import train_test_split\n",
    "x_train, x_test, y_train, y_test = train_test_split(X, Y, test_size=0.1, random_state = 0)\n",
    "#splitting the data which is not for training into validation sets and test sets                                                    \n",
    "x_val, x_fin, y_val, y_fin = train_test_split(x_test, y_test, test_size=0.5, random_state = 0)\n",
    "#to display the proportions\n",
    "x_train.shape, x_test.shape"
   ]
  },
  {
   "cell_type": "markdown",
   "id": "232bcf19",
   "metadata": {},
   "source": [
    "### Comparison of  models"
   ]
  },
  {
   "cell_type": "code",
   "execution_count": 44,
   "id": "053d1dc4",
   "metadata": {},
   "outputs": [
    {
     "name": "stdout",
     "output_type": "stream",
     "text": [
      "1.2885525856469504\n"
     ]
    }
   ],
   "source": [
    "# LINEAR REGRESSION\n",
    "from sklearn.linear_model import LinearRegression\n",
    "myModell = LinearRegression()\n",
    "myModell.fit(x_train, y_train)\n",
    "predictedl = myModell.predict(x_val)\n",
    "print(mean_absolute_error(y_val, predictedl))\n",
    "\n"
   ]
  },
  {
   "cell_type": "code",
   "execution_count": 45,
   "id": "494aa9e5",
   "metadata": {},
   "outputs": [
    {
     "name": "stdout",
     "output_type": "stream",
     "text": [
      "1.45\n"
     ]
    }
   ],
   "source": [
    "#DECISION TREE CLASSIFIER\n",
    "from sklearn.tree import DecisionTreeClassifier\n",
    "myModeld = DecisionTreeClassifier(random_state=1)\n",
    "myModeld.fit(x_train, y_train)\n",
    "predictedd = myModeld.predict(x_val)\n",
    "print(mean_absolute_error(y_val, predictedd))"
   ]
  },
  {
   "cell_type": "code",
   "execution_count": 46,
   "id": "82c80a17",
   "metadata": {},
   "outputs": [
    {
     "name": "stdout",
     "output_type": "stream",
     "text": [
      "0.9333333333333332\n"
     ]
    }
   ],
   "source": [
    "#KNN\n",
    "from sklearn.neighbors import KNeighborsRegressor\n",
    "myModelk = KNeighborsRegressor(n_neighbors=3)\n",
    "myModelk.fit(x_train, y_train)\n",
    "predictedk = myModelk.predict(x_val)\n",
    "print(mean_absolute_error(y_val, predictedk))"
   ]
  },
  {
   "cell_type": "code",
   "execution_count": 47,
   "id": "4bfb55d3",
   "metadata": {},
   "outputs": [
    {
     "name": "stdout",
     "output_type": "stream",
     "text": [
      "1.5302315987390842\n"
     ]
    }
   ],
   "source": [
    "#SVM\n",
    "from sklearn.svm import SVR\n",
    "myModel2 = SVR(kernel='rbf', C=1e3, gamma=0.1)\n",
    "myModel2.fit(x_train, y_train)\n",
    "predicted2 = myModel2.predict(x_val)\n",
    "print(mean_absolute_error(y_val, predicted2))"
   ]
  },
  {
   "cell_type": "code",
   "execution_count": 48,
   "id": "1136b5b9",
   "metadata": {},
   "outputs": [
    {
     "name": "stdout",
     "output_type": "stream",
     "text": [
      "1.4\n"
     ]
    }
   ],
   "source": [
    "# RANDOM FOREST CLASSIFIER\n",
    "from sklearn.ensemble import RandomForestClassifier\n",
    "myModel1 = RandomForestClassifier(n_estimators = 150,\n",
    "                                     max_depth = 4,\n",
    "                                     class_weight = 'balanced')\n",
    "myModel1.fit(x_train, y_train)\n",
    "predicted = myModel1.predict(x_val)\n",
    "print(mean_absolute_error(y_val, predicted))"
   ]
  },
  {
   "cell_type": "markdown",
   "id": "d0a2f674",
   "metadata": {},
   "source": [
    "### Hyperparameter tuning "
   ]
  },
  {
   "cell_type": "code",
   "execution_count": 19,
   "id": "1ffab2f2",
   "metadata": {},
   "outputs": [
    {
     "data": {
      "text/plain": [
       "{'bootstrap': True,\n",
       " 'ccp_alpha': 0.0,\n",
       " 'class_weight': None,\n",
       " 'criterion': 'gini',\n",
       " 'max_depth': None,\n",
       " 'max_features': 'auto',\n",
       " 'max_leaf_nodes': None,\n",
       " 'max_samples': None,\n",
       " 'min_impurity_decrease': 0.0,\n",
       " 'min_samples_leaf': 1,\n",
       " 'min_samples_split': 2,\n",
       " 'min_weight_fraction_leaf': 0.0,\n",
       " 'n_estimators': 100,\n",
       " 'n_jobs': None,\n",
       " 'oob_score': False,\n",
       " 'random_state': None,\n",
       " 'verbose': 0,\n",
       " 'warm_start': False}"
      ]
     },
     "execution_count": 19,
     "metadata": {},
     "output_type": "execute_result"
    }
   ],
   "source": [
    "#Hyperparameter tuning the model\n",
    "from sklearn.ensemble import RandomForestClassifier\n",
    "from sklearn.model_selection import RandomizedSearchCV, GridSearchCV\n",
    "#display the parameters of the model that can be tuned\n",
    "RandomForestClassifier().get_params()"
   ]
  },
  {
   "cell_type": "code",
   "execution_count": 20,
   "id": "a89d6643",
   "metadata": {},
   "outputs": [
    {
     "name": "stdout",
     "output_type": "stream",
     "text": [
      "Number of Combinations =  1600\n"
     ]
    },
    {
     "data": {
      "text/plain": [
       "{'n_estimators': [10, 60, 110, 160, 210],\n",
       " 'criterion': ['gini', 'entropy'],\n",
       " 'max_depth': [5, 15, 25, 35, None],\n",
       " 'min_samples_split': [0.005, 0.015, 0.025, 0.035],\n",
       " 'min_samples_leaf': [0.005, 0.015, 0.025, 0.035],\n",
       " 'max_features': ['sqrt', 'log2']}"
      ]
     },
     "execution_count": 20,
     "metadata": {},
     "output_type": "execute_result"
    }
   ],
   "source": [
    "#Specifying the range of values for some important hyperparameters\n",
    "n_estimators_list = list(range(10, 220, 50))\n",
    "criterion_list = ['gini', 'entropy']\n",
    "max_depth_list = list(range(5, 41,10))\n",
    "max_depth_list.append(None)\n",
    "min_samples_split_list = [x/1000 for x in list(range(5, 41, 10))]\n",
    "min_samples_leaf_list = [x/1000 for x in list(range(5, 41, 10))]\n",
    "max_features_list = ['sqrt', 'log2']\n",
    "\n",
    "#dictonary for the information used\n",
    "params_grid = {\n",
    "    'n_estimators': n_estimators_list,\n",
    "    'criterion' : criterion_list,\n",
    "    'max_depth' : max_depth_list,\n",
    "    'min_samples_split' : min_samples_split_list,\n",
    "    'min_samples_leaf' : min_samples_leaf_list,\n",
    "    'max_features' : max_features_list\n",
    "}\n",
    "\n",
    "#number of possible combinations to be obtained\n",
    "num_combinations = 1\n",
    "for k in params_grid.keys(): num_combinations *= len(params_grid[k])\n",
    " \n",
    "print(\"Number of Combinations = \", num_combinations)\n",
    "params_grid\n"
   ]
  },
  {
   "cell_type": "code",
   "execution_count": 21,
   "id": "5616bb34",
   "metadata": {},
   "outputs": [
    {
     "name": "stdout",
     "output_type": "stream",
     "text": [
      "Fitting 2 folds for each of 24 candidates, totalling 48 fits\n"
     ]
    },
    {
     "name": "stderr",
     "output_type": "stream",
     "text": [
      "C:\\Users\\USER\\anaconda3\\lib\\site-packages\\sklearn\\model_selection\\_split.py:676: UserWarning: The least populated class in y has only 1 members, which is less than n_splits=2.\n",
      "  warnings.warn(\n"
     ]
    },
    {
     "name": "stdout",
     "output_type": "stream",
     "text": [
      "[CV] END criterion=entropy, max_depth=5, max_features=log2, min_samples_leaf=0.015, min_samples_split=0.025, n_estimators=110; total time=   0.3s\n",
      "[CV] END criterion=entropy, max_depth=5, max_features=log2, min_samples_leaf=0.015, min_samples_split=0.025, n_estimators=110; total time=   0.2s\n",
      "[CV] END criterion=entropy, max_depth=5, max_features=sqrt, min_samples_leaf=0.025, min_samples_split=0.035, n_estimators=60; total time=   0.1s\n",
      "[CV] END criterion=entropy, max_depth=5, max_features=sqrt, min_samples_leaf=0.025, min_samples_split=0.035, n_estimators=60; total time=   0.1s\n",
      "[CV] END criterion=gini, max_depth=35, max_features=sqrt, min_samples_leaf=0.015, min_samples_split=0.035, n_estimators=60; total time=   0.1s\n",
      "[CV] END criterion=gini, max_depth=35, max_features=sqrt, min_samples_leaf=0.015, min_samples_split=0.035, n_estimators=60; total time=   0.1s\n",
      "[CV] END criterion=entropy, max_depth=15, max_features=log2, min_samples_leaf=0.025, min_samples_split=0.025, n_estimators=10; total time=   0.0s\n",
      "[CV] END criterion=entropy, max_depth=15, max_features=log2, min_samples_leaf=0.025, min_samples_split=0.025, n_estimators=10; total time=   0.0s\n",
      "[CV] END criterion=entropy, max_depth=15, max_features=sqrt, min_samples_leaf=0.015, min_samples_split=0.005, n_estimators=210; total time=   0.5s\n",
      "[CV] END criterion=entropy, max_depth=15, max_features=sqrt, min_samples_leaf=0.015, min_samples_split=0.005, n_estimators=210; total time=   0.5s\n",
      "[CV] END criterion=gini, max_depth=25, max_features=sqrt, min_samples_leaf=0.015, min_samples_split=0.035, n_estimators=210; total time=   0.5s\n",
      "[CV] END criterion=gini, max_depth=25, max_features=sqrt, min_samples_leaf=0.015, min_samples_split=0.035, n_estimators=210; total time=   0.5s\n",
      "[CV] END criterion=gini, max_depth=None, max_features=log2, min_samples_leaf=0.025, min_samples_split=0.015, n_estimators=210; total time=   0.5s\n",
      "[CV] END criterion=gini, max_depth=None, max_features=log2, min_samples_leaf=0.025, min_samples_split=0.015, n_estimators=210; total time=   0.5s\n",
      "[CV] END criterion=gini, max_depth=15, max_features=sqrt, min_samples_leaf=0.035, min_samples_split=0.005, n_estimators=60; total time=   0.1s\n",
      "[CV] END criterion=gini, max_depth=15, max_features=sqrt, min_samples_leaf=0.035, min_samples_split=0.005, n_estimators=60; total time=   0.1s\n",
      "[CV] END criterion=gini, max_depth=5, max_features=log2, min_samples_leaf=0.035, min_samples_split=0.005, n_estimators=160; total time=   0.4s\n",
      "[CV] END criterion=gini, max_depth=5, max_features=log2, min_samples_leaf=0.035, min_samples_split=0.005, n_estimators=160; total time=   0.4s\n",
      "[CV] END criterion=gini, max_depth=5, max_features=sqrt, min_samples_leaf=0.015, min_samples_split=0.035, n_estimators=210; total time=   0.5s\n",
      "[CV] END criterion=gini, max_depth=5, max_features=sqrt, min_samples_leaf=0.015, min_samples_split=0.035, n_estimators=210; total time=   0.5s\n",
      "[CV] END criterion=gini, max_depth=35, max_features=sqrt, min_samples_leaf=0.005, min_samples_split=0.035, n_estimators=10; total time=   0.0s\n",
      "[CV] END criterion=gini, max_depth=35, max_features=sqrt, min_samples_leaf=0.005, min_samples_split=0.035, n_estimators=10; total time=   0.0s\n",
      "[CV] END criterion=entropy, max_depth=None, max_features=sqrt, min_samples_leaf=0.015, min_samples_split=0.015, n_estimators=60; total time=   0.1s\n",
      "[CV] END criterion=entropy, max_depth=None, max_features=sqrt, min_samples_leaf=0.015, min_samples_split=0.015, n_estimators=60; total time=   0.1s\n",
      "[CV] END criterion=entropy, max_depth=15, max_features=log2, min_samples_leaf=0.025, min_samples_split=0.005, n_estimators=210; total time=   0.5s\n",
      "[CV] END criterion=entropy, max_depth=15, max_features=log2, min_samples_leaf=0.025, min_samples_split=0.005, n_estimators=210; total time=   0.5s\n",
      "[CV] END criterion=entropy, max_depth=15, max_features=sqrt, min_samples_leaf=0.035, min_samples_split=0.035, n_estimators=110; total time=   0.2s\n",
      "[CV] END criterion=entropy, max_depth=15, max_features=sqrt, min_samples_leaf=0.035, min_samples_split=0.035, n_estimators=110; total time=   0.2s\n",
      "[CV] END criterion=entropy, max_depth=5, max_features=log2, min_samples_leaf=0.025, min_samples_split=0.035, n_estimators=60; total time=   0.1s\n",
      "[CV] END criterion=entropy, max_depth=5, max_features=log2, min_samples_leaf=0.025, min_samples_split=0.035, n_estimators=60; total time=   0.1s\n",
      "[CV] END criterion=entropy, max_depth=25, max_features=sqrt, min_samples_leaf=0.025, min_samples_split=0.025, n_estimators=60; total time=   0.1s\n",
      "[CV] END criterion=entropy, max_depth=25, max_features=sqrt, min_samples_leaf=0.025, min_samples_split=0.025, n_estimators=60; total time=   0.1s\n",
      "[CV] END criterion=gini, max_depth=25, max_features=sqrt, min_samples_leaf=0.025, min_samples_split=0.015, n_estimators=160; total time=   0.4s\n",
      "[CV] END criterion=gini, max_depth=25, max_features=sqrt, min_samples_leaf=0.025, min_samples_split=0.015, n_estimators=160; total time=   0.4s\n",
      "[CV] END criterion=entropy, max_depth=15, max_features=log2, min_samples_leaf=0.015, min_samples_split=0.005, n_estimators=160; total time=   0.4s\n",
      "[CV] END criterion=entropy, max_depth=15, max_features=log2, min_samples_leaf=0.015, min_samples_split=0.005, n_estimators=160; total time=   0.4s\n",
      "[CV] END criterion=gini, max_depth=15, max_features=sqrt, min_samples_leaf=0.035, min_samples_split=0.015, n_estimators=160; total time=   0.4s\n",
      "[CV] END criterion=gini, max_depth=15, max_features=sqrt, min_samples_leaf=0.035, min_samples_split=0.015, n_estimators=160; total time=   0.4s\n",
      "[CV] END criterion=gini, max_depth=15, max_features=sqrt, min_samples_leaf=0.005, min_samples_split=0.025, n_estimators=160; total time=   0.4s\n",
      "[CV] END criterion=gini, max_depth=15, max_features=sqrt, min_samples_leaf=0.005, min_samples_split=0.025, n_estimators=160; total time=   0.4s\n",
      "[CV] END criterion=gini, max_depth=35, max_features=sqrt, min_samples_leaf=0.025, min_samples_split=0.025, n_estimators=160; total time=   0.4s\n",
      "[CV] END criterion=gini, max_depth=35, max_features=sqrt, min_samples_leaf=0.025, min_samples_split=0.025, n_estimators=160; total time=   0.4s\n",
      "[CV] END criterion=gini, max_depth=15, max_features=log2, min_samples_leaf=0.025, min_samples_split=0.005, n_estimators=10; total time=   0.0s\n",
      "[CV] END criterion=gini, max_depth=15, max_features=log2, min_samples_leaf=0.025, min_samples_split=0.005, n_estimators=10; total time=   0.0s\n",
      "[CV] END criterion=gini, max_depth=25, max_features=sqrt, min_samples_leaf=0.005, min_samples_split=0.025, n_estimators=60; total time=   0.1s\n",
      "[CV] END criterion=gini, max_depth=25, max_features=sqrt, min_samples_leaf=0.005, min_samples_split=0.025, n_estimators=60; total time=   0.1s\n",
      "[CV] END criterion=gini, max_depth=25, max_features=log2, min_samples_leaf=0.035, min_samples_split=0.025, n_estimators=210; total time=   0.5s\n",
      "[CV] END criterion=gini, max_depth=25, max_features=log2, min_samples_leaf=0.035, min_samples_split=0.025, n_estimators=210; total time=   0.5s\n"
     ]
    },
    {
     "data": {
      "text/plain": [
       "RandomizedSearchCV(cv=2,\n",
       "                   estimator=RandomForestClassifier(class_weight='balanced'),\n",
       "                   n_iter=24,\n",
       "                   param_distributions={'criterion': ['gini', 'entropy'],\n",
       "                                        'max_depth': [5, 15, 25, 35, None],\n",
       "                                        'max_features': ['sqrt', 'log2'],\n",
       "                                        'min_samples_leaf': [0.005, 0.015,\n",
       "                                                             0.025, 0.035],\n",
       "                                        'min_samples_split': [0.005, 0.015,\n",
       "                                                              0.025, 0.035],\n",
       "                                        'n_estimators': [10, 60, 110, 160,\n",
       "                                                         210]},\n",
       "                   return_train_score=True, verbose=2)"
      ]
     },
     "execution_count": 21,
     "metadata": {},
     "output_type": "execute_result"
    }
   ],
   "source": [
    "#Using RandomizedSearchCV\n",
    "#creating an intsance of the class RandomizedSearchCV\n",
    "model_rf = RandomizedSearchCV(estimator = RandomForestClassifier(class_weight='balanced'),\n",
    "                             param_distributions = params_grid,\n",
    "                             n_iter = 24, \n",
    "                             cv=2,\n",
    "                             return_train_score=True,\n",
    "                             verbose = 2)\n",
    "model_rf.fit(x_train, y_train)"
   ]
  },
  {
   "cell_type": "code",
   "execution_count": 22,
   "id": "ab575c93",
   "metadata": {},
   "outputs": [
    {
     "data": {
      "text/plain": [
       "{'n_estimators': 160,\n",
       " 'min_samples_split': 0.005,\n",
       " 'min_samples_leaf': 0.015,\n",
       " 'max_features': 'log2',\n",
       " 'max_depth': 15,\n",
       " 'criterion': 'entropy'}"
      ]
     },
     "execution_count": 22,
     "metadata": {},
     "output_type": "execute_result"
    }
   ],
   "source": [
    "model_rf.best_params_"
   ]
  },
  {
   "cell_type": "markdown",
   "id": "9da75555",
   "metadata": {},
   "source": [
    "### Evaluating the tuned model with RandomizedSearchCV"
   ]
  },
  {
   "cell_type": "code",
   "execution_count": 23,
   "id": "dc9cefa8",
   "metadata": {},
   "outputs": [
    {
     "name": "stdout",
     "output_type": "stream",
     "text": [
      "1.2\n"
     ]
    }
   ],
   "source": [
    "myModel2 = RandomForestClassifier(\n",
    " n_estimators= 160,\n",
    " min_samples_split= 0.005,\n",
    " min_samples_leaf= 0.001,\n",
    " max_features= 'log2',\n",
    " max_depth= 55,\n",
    " criterion= 'gini'\n",
    ")\n",
    "myModel2.fit(x_train, y_train)\n",
    "val_predictions2 = myModel2.predict(x_val)\n",
    "print(mean_absolute_error(y_val, val_predictions2))"
   ]
  },
  {
   "cell_type": "code",
   "execution_count": 24,
   "id": "dc52772a",
   "metadata": {},
   "outputs": [
    {
     "name": "stdout",
     "output_type": "stream",
     "text": [
      "Number of Combinations =  24\n"
     ]
    },
    {
     "data": {
      "text/plain": [
       "{'n_estimators': [130, 160, 190],\n",
       " 'criterion': ['gini'],\n",
       " 'max_depth': [35, 55],\n",
       " 'min_samples_split': [0.001, 0.005],\n",
       " 'min_samples_leaf': [0.001, 0.005],\n",
       " 'max_features': ['log2']}"
      ]
     },
     "execution_count": 24,
     "metadata": {},
     "output_type": "execute_result"
    }
   ],
   "source": [
    "#Using GridSearchCV\n",
    "n_estimators_list = [130, 160, 190]\n",
    "criterion_list = ['gini']\n",
    "max_depth_list = [35, 55]\n",
    "min_samples_split_list = [0.001, 0.005]\n",
    "min_samples_leaf_list = [0.001, 0.005]\n",
    "max_features_list = ['log2']\n",
    "\n",
    "params_grid = {\n",
    "    'n_estimators': n_estimators_list,\n",
    "    'criterion' : criterion_list,\n",
    "    'max_depth' : max_depth_list,\n",
    "    'min_samples_split' : min_samples_split_list,\n",
    "    'min_samples_leaf' : min_samples_leaf_list,\n",
    "    'max_features' : max_features_list\n",
    "}\n",
    "\n",
    "num_combinations = 1\n",
    "for k in params_grid.keys(): num_combinations *= len(params_grid[k])\n",
    " \n",
    "print(\"Number of Combinations = \", num_combinations)\n",
    "params_grid\n"
   ]
  },
  {
   "cell_type": "code",
   "execution_count": 25,
   "id": "0bb4d791",
   "metadata": {},
   "outputs": [
    {
     "name": "stdout",
     "output_type": "stream",
     "text": [
      "Fitting 2 folds for each of 24 candidates, totalling 48 fits\n"
     ]
    },
    {
     "name": "stderr",
     "output_type": "stream",
     "text": [
      "C:\\Users\\USER\\anaconda3\\lib\\site-packages\\sklearn\\model_selection\\_split.py:676: UserWarning: The least populated class in y has only 1 members, which is less than n_splits=2.\n",
      "  warnings.warn(\n"
     ]
    },
    {
     "name": "stdout",
     "output_type": "stream",
     "text": [
      "[CV] END criterion=gini, max_depth=35, max_features=log2, min_samples_leaf=0.001, min_samples_split=0.001, n_estimators=130; total time=   0.4s\n",
      "[CV] END criterion=gini, max_depth=35, max_features=log2, min_samples_leaf=0.001, min_samples_split=0.001, n_estimators=130; total time=   0.3s\n",
      "[CV] END criterion=gini, max_depth=35, max_features=log2, min_samples_leaf=0.001, min_samples_split=0.001, n_estimators=160; total time=   0.4s\n",
      "[CV] END criterion=gini, max_depth=35, max_features=log2, min_samples_leaf=0.001, min_samples_split=0.001, n_estimators=160; total time=   0.4s\n",
      "[CV] END criterion=gini, max_depth=35, max_features=log2, min_samples_leaf=0.001, min_samples_split=0.001, n_estimators=190; total time=   0.5s\n",
      "[CV] END criterion=gini, max_depth=35, max_features=log2, min_samples_leaf=0.001, min_samples_split=0.001, n_estimators=190; total time=   0.5s\n",
      "[CV] END criterion=gini, max_depth=35, max_features=log2, min_samples_leaf=0.001, min_samples_split=0.005, n_estimators=130; total time=   0.4s\n",
      "[CV] END criterion=gini, max_depth=35, max_features=log2, min_samples_leaf=0.001, min_samples_split=0.005, n_estimators=130; total time=   0.3s\n",
      "[CV] END criterion=gini, max_depth=35, max_features=log2, min_samples_leaf=0.001, min_samples_split=0.005, n_estimators=160; total time=   0.5s\n",
      "[CV] END criterion=gini, max_depth=35, max_features=log2, min_samples_leaf=0.001, min_samples_split=0.005, n_estimators=160; total time=   0.4s\n",
      "[CV] END criterion=gini, max_depth=35, max_features=log2, min_samples_leaf=0.001, min_samples_split=0.005, n_estimators=190; total time=   0.5s\n",
      "[CV] END criterion=gini, max_depth=35, max_features=log2, min_samples_leaf=0.001, min_samples_split=0.005, n_estimators=190; total time=   0.5s\n",
      "[CV] END criterion=gini, max_depth=35, max_features=log2, min_samples_leaf=0.005, min_samples_split=0.001, n_estimators=130; total time=   0.3s\n",
      "[CV] END criterion=gini, max_depth=35, max_features=log2, min_samples_leaf=0.005, min_samples_split=0.001, n_estimators=130; total time=   0.3s\n",
      "[CV] END criterion=gini, max_depth=35, max_features=log2, min_samples_leaf=0.005, min_samples_split=0.001, n_estimators=160; total time=   0.4s\n",
      "[CV] END criterion=gini, max_depth=35, max_features=log2, min_samples_leaf=0.005, min_samples_split=0.001, n_estimators=160; total time=   0.4s\n",
      "[CV] END criterion=gini, max_depth=35, max_features=log2, min_samples_leaf=0.005, min_samples_split=0.001, n_estimators=190; total time=   0.5s\n",
      "[CV] END criterion=gini, max_depth=35, max_features=log2, min_samples_leaf=0.005, min_samples_split=0.001, n_estimators=190; total time=   0.5s\n",
      "[CV] END criterion=gini, max_depth=35, max_features=log2, min_samples_leaf=0.005, min_samples_split=0.005, n_estimators=130; total time=   0.3s\n",
      "[CV] END criterion=gini, max_depth=35, max_features=log2, min_samples_leaf=0.005, min_samples_split=0.005, n_estimators=130; total time=   0.3s\n",
      "[CV] END criterion=gini, max_depth=35, max_features=log2, min_samples_leaf=0.005, min_samples_split=0.005, n_estimators=160; total time=   0.4s\n",
      "[CV] END criterion=gini, max_depth=35, max_features=log2, min_samples_leaf=0.005, min_samples_split=0.005, n_estimators=160; total time=   0.4s\n",
      "[CV] END criterion=gini, max_depth=35, max_features=log2, min_samples_leaf=0.005, min_samples_split=0.005, n_estimators=190; total time=   0.5s\n",
      "[CV] END criterion=gini, max_depth=35, max_features=log2, min_samples_leaf=0.005, min_samples_split=0.005, n_estimators=190; total time=   0.5s\n",
      "[CV] END criterion=gini, max_depth=55, max_features=log2, min_samples_leaf=0.001, min_samples_split=0.001, n_estimators=130; total time=   0.3s\n",
      "[CV] END criterion=gini, max_depth=55, max_features=log2, min_samples_leaf=0.001, min_samples_split=0.001, n_estimators=130; total time=   0.3s\n",
      "[CV] END criterion=gini, max_depth=55, max_features=log2, min_samples_leaf=0.001, min_samples_split=0.001, n_estimators=160; total time=   0.4s\n",
      "[CV] END criterion=gini, max_depth=55, max_features=log2, min_samples_leaf=0.001, min_samples_split=0.001, n_estimators=160; total time=   0.4s\n",
      "[CV] END criterion=gini, max_depth=55, max_features=log2, min_samples_leaf=0.001, min_samples_split=0.001, n_estimators=190; total time=   0.5s\n",
      "[CV] END criterion=gini, max_depth=55, max_features=log2, min_samples_leaf=0.001, min_samples_split=0.001, n_estimators=190; total time=   0.5s\n",
      "[CV] END criterion=gini, max_depth=55, max_features=log2, min_samples_leaf=0.001, min_samples_split=0.005, n_estimators=130; total time=   0.3s\n",
      "[CV] END criterion=gini, max_depth=55, max_features=log2, min_samples_leaf=0.001, min_samples_split=0.005, n_estimators=130; total time=   0.3s\n",
      "[CV] END criterion=gini, max_depth=55, max_features=log2, min_samples_leaf=0.001, min_samples_split=0.005, n_estimators=160; total time=   0.4s\n",
      "[CV] END criterion=gini, max_depth=55, max_features=log2, min_samples_leaf=0.001, min_samples_split=0.005, n_estimators=160; total time=   0.4s\n",
      "[CV] END criterion=gini, max_depth=55, max_features=log2, min_samples_leaf=0.001, min_samples_split=0.005, n_estimators=190; total time=   0.5s\n",
      "[CV] END criterion=gini, max_depth=55, max_features=log2, min_samples_leaf=0.001, min_samples_split=0.005, n_estimators=190; total time=   0.5s\n",
      "[CV] END criterion=gini, max_depth=55, max_features=log2, min_samples_leaf=0.005, min_samples_split=0.001, n_estimators=130; total time=   0.3s\n",
      "[CV] END criterion=gini, max_depth=55, max_features=log2, min_samples_leaf=0.005, min_samples_split=0.001, n_estimators=130; total time=   0.3s\n",
      "[CV] END criterion=gini, max_depth=55, max_features=log2, min_samples_leaf=0.005, min_samples_split=0.001, n_estimators=160; total time=   0.4s\n",
      "[CV] END criterion=gini, max_depth=55, max_features=log2, min_samples_leaf=0.005, min_samples_split=0.001, n_estimators=160; total time=   0.4s\n",
      "[CV] END criterion=gini, max_depth=55, max_features=log2, min_samples_leaf=0.005, min_samples_split=0.001, n_estimators=190; total time=   0.5s\n",
      "[CV] END criterion=gini, max_depth=55, max_features=log2, min_samples_leaf=0.005, min_samples_split=0.001, n_estimators=190; total time=   0.5s\n",
      "[CV] END criterion=gini, max_depth=55, max_features=log2, min_samples_leaf=0.005, min_samples_split=0.005, n_estimators=130; total time=   0.3s\n",
      "[CV] END criterion=gini, max_depth=55, max_features=log2, min_samples_leaf=0.005, min_samples_split=0.005, n_estimators=130; total time=   0.3s\n",
      "[CV] END criterion=gini, max_depth=55, max_features=log2, min_samples_leaf=0.005, min_samples_split=0.005, n_estimators=160; total time=   0.4s\n",
      "[CV] END criterion=gini, max_depth=55, max_features=log2, min_samples_leaf=0.005, min_samples_split=0.005, n_estimators=160; total time=   0.4s\n",
      "[CV] END criterion=gini, max_depth=55, max_features=log2, min_samples_leaf=0.005, min_samples_split=0.005, n_estimators=190; total time=   0.5s\n",
      "[CV] END criterion=gini, max_depth=55, max_features=log2, min_samples_leaf=0.005, min_samples_split=0.005, n_estimators=190; total time=   0.5s\n"
     ]
    },
    {
     "data": {
      "text/plain": [
       "GridSearchCV(cv=2, estimator=RandomForestClassifier(class_weight='balanced'),\n",
       "             param_grid={'criterion': ['gini'], 'max_depth': [35, 55],\n",
       "                         'max_features': ['log2'],\n",
       "                         'min_samples_leaf': [0.001, 0.005],\n",
       "                         'min_samples_split': [0.001, 0.005],\n",
       "                         'n_estimators': [130, 160, 190]},\n",
       "             return_train_score=True, verbose=2)"
      ]
     },
     "execution_count": 25,
     "metadata": {},
     "output_type": "execute_result"
    }
   ],
   "source": [
    "model_rf2 = GridSearchCV(estimator = RandomForestClassifier(class_weight='balanced'),\n",
    "                        param_grid = params_grid,\n",
    "                        cv=2,\n",
    "                        return_train_score=True,\n",
    "                        verbose = 2)\n",
    "model_rf2.fit(x_train, y_train)"
   ]
  },
  {
   "cell_type": "code",
   "execution_count": 26,
   "id": "6cb411b4",
   "metadata": {},
   "outputs": [
    {
     "data": {
      "text/plain": [
       "{'criterion': 'gini',\n",
       " 'max_depth': 55,\n",
       " 'max_features': 'log2',\n",
       " 'min_samples_leaf': 0.005,\n",
       " 'min_samples_split': 0.001,\n",
       " 'n_estimators': 160}"
      ]
     },
     "execution_count": 26,
     "metadata": {},
     "output_type": "execute_result"
    }
   ],
   "source": [
    "model_rf2.best_params_"
   ]
  },
  {
   "cell_type": "markdown",
   "id": "2986a472",
   "metadata": {},
   "source": [
    "### Evaluating the tuned model with GridSearchCV"
   ]
  },
  {
   "cell_type": "code",
   "execution_count": 28,
   "id": "31d0dc68",
   "metadata": {},
   "outputs": [
    {
     "name": "stdout",
     "output_type": "stream",
     "text": [
      "1.15\n"
     ]
    }
   ],
   "source": [
    "myModel2 = RandomForestClassifier(\n",
    " n_estimators= 190,\n",
    " min_samples_split= 0.005,\n",
    " min_samples_leaf= 0.001,\n",
    " max_features= 'log2',\n",
    " max_depth= 55,\n",
    " criterion= 'gini'\n",
    ")\n",
    "myModel2.fit(x_train, y_train)\n",
    "val_predictions3 = myModel2.predict(x_val)\n",
    "print(mean_absolute_error(y_val, val_predictions3))"
   ]
  },
  {
   "cell_type": "code",
   "execution_count": null,
   "id": "f9b9c3fc",
   "metadata": {},
   "outputs": [],
   "source": []
  }
 ],
 "metadata": {
  "kernelspec": {
   "display_name": "Python 3 (ipykernel)",
   "language": "python",
   "name": "python3"
  },
  "language_info": {
   "codemirror_mode": {
    "name": "ipython",
    "version": 3
   },
   "file_extension": ".py",
   "mimetype": "text/x-python",
   "name": "python",
   "nbconvert_exporter": "python",
   "pygments_lexer": "ipython3",
   "version": "3.9.13"
  }
 },
 "nbformat": 4,
 "nbformat_minor": 5
}
